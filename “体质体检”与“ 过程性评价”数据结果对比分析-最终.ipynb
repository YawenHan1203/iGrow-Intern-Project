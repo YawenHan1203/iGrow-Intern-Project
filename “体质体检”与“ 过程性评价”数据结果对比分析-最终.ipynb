{
 "cells": [
  {
   "cell_type": "markdown",
   "metadata": {},
   "source": [
    "# “体质体检”与“ 过程性评价”数据结果对比分析\n"
   ]
  },
  {
   "cell_type": "markdown",
   "metadata": {},
   "source": [
    "点击“隐藏代码”，可隐藏代码："
   ]
  },
  {
   "cell_type": "code",
   "execution_count": 1,
   "metadata": {
    "scrolled": true
   },
   "outputs": [
    {
     "data": {
      "text/html": [
       "<button onclick=\"jQuery('.input_area').toggle();jQuery('.prompt').toggle();\">隐藏代码</button>"
      ]
     },
     "metadata": {},
     "output_type": "display_data"
    }
   ],
   "source": [
    "import IPython.core.display as di\n",
    "#这部分程序将会在下方加一个按钮以选择是否隐藏代码\n",
    "di.display_html('''<button onclick=\"jQuery('.input_area').toggle();jQuery('.prompt').toggle();\">隐藏代码</button>''',raw=True)"
   ]
  },
  {
   "cell_type": "markdown",
   "metadata": {},
   "source": [
    "对于数据字段缩写的说明：\n",
    "\n",
    "* tztj-“体质体检”数据（数据量：25万）\n",
    "\n",
    "* 1718-“过程性评价”数据（数据量：400）\n",
    "\n",
    "* Grade-年级（7：初一， 8：初二）\n",
    "\n",
    "* Gender-性别（M：男，F：女）\n",
    "\n",
    "* 50m_grade-“ 50m”项目测试成绩（单位：秒）\n",
    "\n",
    "* 50m_point-“50m”项目测试得分(百分制)\n",
    "\n",
    "* TS_grade-“跳绳”项目测试成绩（单位：下）\n",
    "\n",
    "* TS_point-“跳绳”项目测试得分（百分制）\n",
    "\n",
    "* LDTY_grade-“立定跳远”项目测试成绩（单位：cm）\n",
    "\n",
    "* LDTY_point-“立定跳远”项目测试得分（百分制）\n",
    "\n",
    "* YTXS_point-“引体向上”项目测试得分（百分制）\n",
    "\n",
    "* count-总数（数据总数目）\n",
    "\n",
    "* mean-平均数\n",
    "\n",
    "* std-标准差\n",
    "\n",
    "* min-最小值\n",
    "\n",
    "* 25%-25%处数值（下四分位数）\n",
    "\n",
    "* 50%-50%处数值（中值，中位数）\n",
    "\n",
    "* 75%-75%处数值（上四分位数）\n",
    "\n",
    "* max-最大值\n"
   ]
  },
  {
   "cell_type": "code",
   "execution_count": 2,
   "metadata": {},
   "outputs": [],
   "source": [
    "# 导入工具包\n",
    "import pandas as pd\n",
    "import matplotlib.pyplot as plt\n",
    "import seaborn as sns\n",
    "import numpy as np"
   ]
  },
  {
   "cell_type": "markdown",
   "metadata": {},
   "source": [
    "## 一、 体质体检（tztj）数据分析"
   ]
  },
  {
   "cell_type": "markdown",
   "metadata": {},
   "source": [
    "首先总体看一下“体质体检”数据的大致分布，有个了解："
   ]
  },
  {
   "cell_type": "code",
   "execution_count": 3,
   "metadata": {},
   "outputs": [
    {
     "data": {
      "text/html": [
       "<div>\n",
       "<style scoped>\n",
       "    .dataframe tbody tr th:only-of-type {\n",
       "        vertical-align: middle;\n",
       "    }\n",
       "\n",
       "    .dataframe tbody tr th {\n",
       "        vertical-align: top;\n",
       "    }\n",
       "\n",
       "    .dataframe thead th {\n",
       "        text-align: right;\n",
       "    }\n",
       "</style>\n",
       "<table border=\"1\" class=\"dataframe\">\n",
       "  <thead>\n",
       "    <tr style=\"text-align: right;\">\n",
       "      <th></th>\n",
       "      <th>Grade</th>\n",
       "      <th>50m_grade</th>\n",
       "      <th>50m_point</th>\n",
       "      <th>TS_grade</th>\n",
       "      <th>TS_point</th>\n",
       "      <th>LDTY_grade</th>\n",
       "      <th>LDTY_point</th>\n",
       "      <th>YTXS_point</th>\n",
       "    </tr>\n",
       "  </thead>\n",
       "  <tbody>\n",
       "    <tr>\n",
       "      <th>count</th>\n",
       "      <td>265172.000000</td>\n",
       "      <td>249744.000000</td>\n",
       "      <td>249744.000000</td>\n",
       "      <td>1171.000000</td>\n",
       "      <td>1171.000000</td>\n",
       "      <td>252824.000000</td>\n",
       "      <td>252824.000000</td>\n",
       "      <td>133717.000000</td>\n",
       "    </tr>\n",
       "    <tr>\n",
       "      <th>mean</th>\n",
       "      <td>7.890192</td>\n",
       "      <td>8.547133</td>\n",
       "      <td>80.283042</td>\n",
       "      <td>126.111016</td>\n",
       "      <td>77.228864</td>\n",
       "      <td>180.737264</td>\n",
       "      <td>72.251009</td>\n",
       "      <td>33.376773</td>\n",
       "    </tr>\n",
       "    <tr>\n",
       "      <th>std</th>\n",
       "      <td>0.812937</td>\n",
       "      <td>1.012675</td>\n",
       "      <td>15.695669</td>\n",
       "      <td>36.075059</td>\n",
       "      <td>18.789992</td>\n",
       "      <td>36.059923</td>\n",
       "      <td>19.584888</td>\n",
       "      <td>33.000374</td>\n",
       "    </tr>\n",
       "    <tr>\n",
       "      <th>min</th>\n",
       "      <td>7.000000</td>\n",
       "      <td>5.000000</td>\n",
       "      <td>0.000000</td>\n",
       "      <td>0.000000</td>\n",
       "      <td>0.000000</td>\n",
       "      <td>0.000000</td>\n",
       "      <td>0.000000</td>\n",
       "      <td>0.000000</td>\n",
       "    </tr>\n",
       "    <tr>\n",
       "      <th>25%</th>\n",
       "      <td>7.000000</td>\n",
       "      <td>7.900000</td>\n",
       "      <td>72.000000</td>\n",
       "      <td>105.000000</td>\n",
       "      <td>70.000000</td>\n",
       "      <td>165.000000</td>\n",
       "      <td>66.000000</td>\n",
       "      <td>0.000000</td>\n",
       "    </tr>\n",
       "    <tr>\n",
       "      <th>50%</th>\n",
       "      <td>8.000000</td>\n",
       "      <td>8.500000</td>\n",
       "      <td>78.000000</td>\n",
       "      <td>129.000000</td>\n",
       "      <td>78.000000</td>\n",
       "      <td>180.000000</td>\n",
       "      <td>76.000000</td>\n",
       "      <td>30.000000</td>\n",
       "    </tr>\n",
       "    <tr>\n",
       "      <th>75%</th>\n",
       "      <td>9.000000</td>\n",
       "      <td>9.130000</td>\n",
       "      <td>95.000000</td>\n",
       "      <td>151.000000</td>\n",
       "      <td>90.000000</td>\n",
       "      <td>200.000000</td>\n",
       "      <td>85.000000</td>\n",
       "      <td>60.000000</td>\n",
       "    </tr>\n",
       "    <tr>\n",
       "      <th>max</th>\n",
       "      <td>9.000000</td>\n",
       "      <td>20.000000</td>\n",
       "      <td>100.000000</td>\n",
       "      <td>236.000000</td>\n",
       "      <td>100.000000</td>\n",
       "      <td>360.000000</td>\n",
       "      <td>100.000000</td>\n",
       "      <td>100.000000</td>\n",
       "    </tr>\n",
       "  </tbody>\n",
       "</table>\n",
       "</div>"
      ],
      "text/plain": [
       "               Grade      50m_grade      50m_point     TS_grade     TS_point  \\\n",
       "count  265172.000000  249744.000000  249744.000000  1171.000000  1171.000000   \n",
       "mean        7.890192       8.547133      80.283042   126.111016    77.228864   \n",
       "std         0.812937       1.012675      15.695669    36.075059    18.789992   \n",
       "min         7.000000       5.000000       0.000000     0.000000     0.000000   \n",
       "25%         7.000000       7.900000      72.000000   105.000000    70.000000   \n",
       "50%         8.000000       8.500000      78.000000   129.000000    78.000000   \n",
       "75%         9.000000       9.130000      95.000000   151.000000    90.000000   \n",
       "max         9.000000      20.000000     100.000000   236.000000   100.000000   \n",
       "\n",
       "          LDTY_grade     LDTY_point     YTXS_point  \n",
       "count  252824.000000  252824.000000  133717.000000  \n",
       "mean      180.737264      72.251009      33.376773  \n",
       "std        36.059923      19.584888      33.000374  \n",
       "min         0.000000       0.000000       0.000000  \n",
       "25%       165.000000      66.000000       0.000000  \n",
       "50%       180.000000      76.000000      30.000000  \n",
       "75%       200.000000      85.000000      60.000000  \n",
       "max       360.000000     100.000000     100.000000  "
      ]
     },
     "execution_count": 3,
     "metadata": {},
     "output_type": "execute_result"
    }
   ],
   "source": [
    "# 导入数据库\n",
    "data_origin = pd.read_csv(\"/Users/yawenhan/Documents/Python/盛学原始数据/tztj_grade7and8.csv\")\n",
    "dfo = pd.DataFrame(data_origin)\n",
    "dfo.describe()"
   ]
  },
  {
   "cell_type": "markdown",
   "metadata": {},
   "source": [
    "由于“过程性评价”中初一、初二测试项目不同，在对比“体质体检”和“过程性评价”两组数据时，先将“体质体检”和“过程性评价”数据分为初一、初二两部分进行分析，之后再将初一、初二两部分数据综合起来进行分析。"
   ]
  },
  {
   "cell_type": "markdown",
   "metadata": {},
   "source": [
    "### 1）体质体检（tztj）初一数据"
   ]
  },
  {
   "cell_type": "markdown",
   "metadata": {},
   "source": [
    "提取“体质体检”初一 数据："
   ]
  },
  {
   "cell_type": "code",
   "execution_count": 4,
   "metadata": {},
   "outputs": [
    {
     "data": {
      "text/html": [
       "<div>\n",
       "<style scoped>\n",
       "    .dataframe tbody tr th:only-of-type {\n",
       "        vertical-align: middle;\n",
       "    }\n",
       "\n",
       "    .dataframe tbody tr th {\n",
       "        vertical-align: top;\n",
       "    }\n",
       "\n",
       "    .dataframe thead th {\n",
       "        text-align: right;\n",
       "    }\n",
       "</style>\n",
       "<table border=\"1\" class=\"dataframe\">\n",
       "  <thead>\n",
       "    <tr style=\"text-align: right;\">\n",
       "      <th></th>\n",
       "      <th>Grade</th>\n",
       "      <th>50m_grade</th>\n",
       "      <th>50m_point</th>\n",
       "      <th>TS_grade</th>\n",
       "      <th>TS_point</th>\n",
       "      <th>LDTY_grade</th>\n",
       "      <th>LDTY_point</th>\n",
       "      <th>YTXS_point</th>\n",
       "    </tr>\n",
       "  </thead>\n",
       "  <tbody>\n",
       "    <tr>\n",
       "      <th>count</th>\n",
       "      <td>103779.0</td>\n",
       "      <td>100355.000000</td>\n",
       "      <td>100355.000000</td>\n",
       "      <td>1171.000000</td>\n",
       "      <td>1171.000000</td>\n",
       "      <td>100563.000000</td>\n",
       "      <td>100563.000000</td>\n",
       "      <td>53161.000000</td>\n",
       "    </tr>\n",
       "    <tr>\n",
       "      <th>mean</th>\n",
       "      <td>7.0</td>\n",
       "      <td>8.812355</td>\n",
       "      <td>78.506352</td>\n",
       "      <td>126.111016</td>\n",
       "      <td>77.228864</td>\n",
       "      <td>173.485288</td>\n",
       "      <td>72.838668</td>\n",
       "      <td>27.228438</td>\n",
       "    </tr>\n",
       "    <tr>\n",
       "      <th>std</th>\n",
       "      <td>0.0</td>\n",
       "      <td>0.981378</td>\n",
       "      <td>16.495233</td>\n",
       "      <td>36.075059</td>\n",
       "      <td>18.789992</td>\n",
       "      <td>31.300050</td>\n",
       "      <td>18.409762</td>\n",
       "      <td>29.907969</td>\n",
       "    </tr>\n",
       "    <tr>\n",
       "      <th>min</th>\n",
       "      <td>7.0</td>\n",
       "      <td>5.020000</td>\n",
       "      <td>0.000000</td>\n",
       "      <td>0.000000</td>\n",
       "      <td>0.000000</td>\n",
       "      <td>0.000000</td>\n",
       "      <td>0.000000</td>\n",
       "      <td>0.000000</td>\n",
       "    </tr>\n",
       "    <tr>\n",
       "      <th>25%</th>\n",
       "      <td>7.0</td>\n",
       "      <td>8.160000</td>\n",
       "      <td>72.000000</td>\n",
       "      <td>105.000000</td>\n",
       "      <td>70.000000</td>\n",
       "      <td>160.000000</td>\n",
       "      <td>66.000000</td>\n",
       "      <td>0.000000</td>\n",
       "    </tr>\n",
       "    <tr>\n",
       "      <th>50%</th>\n",
       "      <td>7.0</td>\n",
       "      <td>8.730000</td>\n",
       "      <td>78.000000</td>\n",
       "      <td>129.000000</td>\n",
       "      <td>78.000000</td>\n",
       "      <td>175.000000</td>\n",
       "      <td>76.000000</td>\n",
       "      <td>30.000000</td>\n",
       "    </tr>\n",
       "    <tr>\n",
       "      <th>75%</th>\n",
       "      <td>7.0</td>\n",
       "      <td>9.400000</td>\n",
       "      <td>90.000000</td>\n",
       "      <td>151.000000</td>\n",
       "      <td>90.000000</td>\n",
       "      <td>190.000000</td>\n",
       "      <td>85.000000</td>\n",
       "      <td>50.000000</td>\n",
       "    </tr>\n",
       "    <tr>\n",
       "      <th>max</th>\n",
       "      <td>7.0</td>\n",
       "      <td>20.000000</td>\n",
       "      <td>100.000000</td>\n",
       "      <td>236.000000</td>\n",
       "      <td>100.000000</td>\n",
       "      <td>360.000000</td>\n",
       "      <td>100.000000</td>\n",
       "      <td>100.000000</td>\n",
       "    </tr>\n",
       "  </tbody>\n",
       "</table>\n",
       "</div>"
      ],
      "text/plain": [
       "          Grade      50m_grade      50m_point     TS_grade     TS_point  \\\n",
       "count  103779.0  100355.000000  100355.000000  1171.000000  1171.000000   \n",
       "mean        7.0       8.812355      78.506352   126.111016    77.228864   \n",
       "std         0.0       0.981378      16.495233    36.075059    18.789992   \n",
       "min         7.0       5.020000       0.000000     0.000000     0.000000   \n",
       "25%         7.0       8.160000      72.000000   105.000000    70.000000   \n",
       "50%         7.0       8.730000      78.000000   129.000000    78.000000   \n",
       "75%         7.0       9.400000      90.000000   151.000000    90.000000   \n",
       "max         7.0      20.000000     100.000000   236.000000   100.000000   \n",
       "\n",
       "          LDTY_grade     LDTY_point    YTXS_point  \n",
       "count  100563.000000  100563.000000  53161.000000  \n",
       "mean      173.485288      72.838668     27.228438  \n",
       "std        31.300050      18.409762     29.907969  \n",
       "min         0.000000       0.000000      0.000000  \n",
       "25%       160.000000      66.000000      0.000000  \n",
       "50%       175.000000      76.000000     30.000000  \n",
       "75%       190.000000      85.000000     50.000000  \n",
       "max       360.000000     100.000000    100.000000  "
      ]
     },
     "execution_count": 4,
     "metadata": {},
     "output_type": "execute_result"
    }
   ],
   "source": [
    "#提取“体质体检”初一 数据\n",
    "data_origin7=data_origin[data_origin['Grade']==7]\n",
    "do7=data_origin7.describe()\n",
    "do7"
   ]
  },
  {
   "cell_type": "markdown",
   "metadata": {},
   "source": [
    "首先对“体质体检”的初一数据进行分析，只分析与“过程性评价”相同的测试项目“50m”，“跳绳”，“立定跳远”，和“引体向上”（引体向上只有得分，没有成绩）。上表显示了数据量，平均值，标准差，最大，最小，25%，中值，75%等信息。"
   ]
  },
  {
   "cell_type": "markdown",
   "metadata": {},
   "source": [
    "### 2）体质体检（tztj）初二数据"
   ]
  },
  {
   "cell_type": "markdown",
   "metadata": {},
   "source": [
    "提取“体质体检”初二数据："
   ]
  },
  {
   "cell_type": "code",
   "execution_count": 5,
   "metadata": {},
   "outputs": [
    {
     "data": {
      "text/html": [
       "<div>\n",
       "<style scoped>\n",
       "    .dataframe tbody tr th:only-of-type {\n",
       "        vertical-align: middle;\n",
       "    }\n",
       "\n",
       "    .dataframe tbody tr th {\n",
       "        vertical-align: top;\n",
       "    }\n",
       "\n",
       "    .dataframe thead th {\n",
       "        text-align: right;\n",
       "    }\n",
       "</style>\n",
       "<table border=\"1\" class=\"dataframe\">\n",
       "  <thead>\n",
       "    <tr style=\"text-align: right;\">\n",
       "      <th></th>\n",
       "      <th>Grade</th>\n",
       "      <th>50m_grade</th>\n",
       "      <th>50m_point</th>\n",
       "      <th>TS_grade</th>\n",
       "      <th>TS_point</th>\n",
       "      <th>LDTY_grade</th>\n",
       "      <th>LDTY_point</th>\n",
       "      <th>YTXS_point</th>\n",
       "    </tr>\n",
       "  </thead>\n",
       "  <tbody>\n",
       "    <tr>\n",
       "      <th>count</th>\n",
       "      <td>86732.0</td>\n",
       "      <td>81179.000000</td>\n",
       "      <td>81179.000000</td>\n",
       "      <td>0.0</td>\n",
       "      <td>0.0</td>\n",
       "      <td>82666.000000</td>\n",
       "      <td>82666.0000</td>\n",
       "      <td>43219.000000</td>\n",
       "    </tr>\n",
       "    <tr>\n",
       "      <th>mean</th>\n",
       "      <td>8.0</td>\n",
       "      <td>8.512922</td>\n",
       "      <td>80.294633</td>\n",
       "      <td>NaN</td>\n",
       "      <td>NaN</td>\n",
       "      <td>181.572046</td>\n",
       "      <td>71.9351</td>\n",
       "      <td>33.321965</td>\n",
       "    </tr>\n",
       "    <tr>\n",
       "      <th>std</th>\n",
       "      <td>0.0</td>\n",
       "      <td>0.965212</td>\n",
       "      <td>15.281893</td>\n",
       "      <td>NaN</td>\n",
       "      <td>NaN</td>\n",
       "      <td>35.963322</td>\n",
       "      <td>19.9250</td>\n",
       "      <td>32.413107</td>\n",
       "    </tr>\n",
       "    <tr>\n",
       "      <th>min</th>\n",
       "      <td>8.0</td>\n",
       "      <td>5.000000</td>\n",
       "      <td>0.000000</td>\n",
       "      <td>NaN</td>\n",
       "      <td>NaN</td>\n",
       "      <td>0.000000</td>\n",
       "      <td>0.0000</td>\n",
       "      <td>0.000000</td>\n",
       "    </tr>\n",
       "    <tr>\n",
       "      <th>25%</th>\n",
       "      <td>8.0</td>\n",
       "      <td>7.880000</td>\n",
       "      <td>72.000000</td>\n",
       "      <td>NaN</td>\n",
       "      <td>NaN</td>\n",
       "      <td>165.000000</td>\n",
       "      <td>66.0000</td>\n",
       "      <td>0.000000</td>\n",
       "    </tr>\n",
       "    <tr>\n",
       "      <th>50%</th>\n",
       "      <td>8.0</td>\n",
       "      <td>8.450000</td>\n",
       "      <td>78.000000</td>\n",
       "      <td>NaN</td>\n",
       "      <td>NaN</td>\n",
       "      <td>182.000000</td>\n",
       "      <td>74.0000</td>\n",
       "      <td>20.000000</td>\n",
       "    </tr>\n",
       "    <tr>\n",
       "      <th>75%</th>\n",
       "      <td>8.0</td>\n",
       "      <td>9.100000</td>\n",
       "      <td>90.000000</td>\n",
       "      <td>NaN</td>\n",
       "      <td>NaN</td>\n",
       "      <td>201.000000</td>\n",
       "      <td>85.0000</td>\n",
       "      <td>60.000000</td>\n",
       "    </tr>\n",
       "    <tr>\n",
       "      <th>max</th>\n",
       "      <td>8.0</td>\n",
       "      <td>20.000000</td>\n",
       "      <td>100.000000</td>\n",
       "      <td>NaN</td>\n",
       "      <td>NaN</td>\n",
       "      <td>345.000000</td>\n",
       "      <td>100.0000</td>\n",
       "      <td>100.000000</td>\n",
       "    </tr>\n",
       "  </tbody>\n",
       "</table>\n",
       "</div>"
      ],
      "text/plain": [
       "         Grade     50m_grade     50m_point  TS_grade  TS_point    LDTY_grade  \\\n",
       "count  86732.0  81179.000000  81179.000000       0.0       0.0  82666.000000   \n",
       "mean       8.0      8.512922     80.294633       NaN       NaN    181.572046   \n",
       "std        0.0      0.965212     15.281893       NaN       NaN     35.963322   \n",
       "min        8.0      5.000000      0.000000       NaN       NaN      0.000000   \n",
       "25%        8.0      7.880000     72.000000       NaN       NaN    165.000000   \n",
       "50%        8.0      8.450000     78.000000       NaN       NaN    182.000000   \n",
       "75%        8.0      9.100000     90.000000       NaN       NaN    201.000000   \n",
       "max        8.0     20.000000    100.000000       NaN       NaN    345.000000   \n",
       "\n",
       "       LDTY_point    YTXS_point  \n",
       "count  82666.0000  43219.000000  \n",
       "mean      71.9351     33.321965  \n",
       "std       19.9250     32.413107  \n",
       "min        0.0000      0.000000  \n",
       "25%       66.0000      0.000000  \n",
       "50%       74.0000     20.000000  \n",
       "75%       85.0000     60.000000  \n",
       "max      100.0000    100.000000  "
      ]
     },
     "execution_count": 5,
     "metadata": {},
     "output_type": "execute_result"
    }
   ],
   "source": [
    "#提取“体质体检”初二数据\n",
    "data_origin8=data_origin[data_origin['Grade']==8]\n",
    "do8=data_origin8.describe()\n",
    "do8"
   ]
  },
  {
   "cell_type": "markdown",
   "metadata": {},
   "source": [
    "其次对“体质体检”的初二数据进行分析，只分析与“过程性评价”相同的测试项目“50m”，“跳绳”，“立定跳远”，和“引体向上”（引体向上只有得分，没有成绩）。上表显示了数据量，平均值，标准差，最大，最小，25%，中值，75%等信息。\n",
    "*  注意：上表中“跳绳”的所有成绩与得分均为NaN（空值），表示“体质体检”数据库中并没有初二学生的“跳绳”成绩和得分， 或初二学生“体质体检”不含“跳绳”项目（但初一学生“体质体检”中含有“跳绳”项目）。"
   ]
  },
  {
   "cell_type": "markdown",
   "metadata": {},
   "source": [
    "## 二、过程性评价（1718）数据分析"
   ]
  },
  {
   "cell_type": "markdown",
   "metadata": {},
   "source": [
    "首先总体看一下“过程性评价”数据的大致分布，有个了解："
   ]
  },
  {
   "cell_type": "markdown",
   "metadata": {},
   "source": [
    "### 1）过程性评价（1718）初一数据"
   ]
  },
  {
   "cell_type": "markdown",
   "metadata": {},
   "source": [
    "提取“过程性评价”初一数据："
   ]
  },
  {
   "cell_type": "code",
   "execution_count": 6,
   "metadata": {},
   "outputs": [
    {
     "data": {
      "text/html": [
       "<div>\n",
       "<style scoped>\n",
       "    .dataframe tbody tr th:only-of-type {\n",
       "        vertical-align: middle;\n",
       "    }\n",
       "\n",
       "    .dataframe tbody tr th {\n",
       "        vertical-align: top;\n",
       "    }\n",
       "\n",
       "    .dataframe thead th {\n",
       "        text-align: right;\n",
       "    }\n",
       "</style>\n",
       "<table border=\"1\" class=\"dataframe\">\n",
       "  <thead>\n",
       "    <tr style=\"text-align: right;\">\n",
       "      <th></th>\n",
       "      <th>Grade</th>\n",
       "      <th>50m_grade</th>\n",
       "      <th>50m_point</th>\n",
       "      <th>TiaoSheng_grade</th>\n",
       "      <th>TiaoSheng_point</th>\n",
       "    </tr>\n",
       "  </thead>\n",
       "  <tbody>\n",
       "    <tr>\n",
       "      <th>count</th>\n",
       "      <td>386.0</td>\n",
       "      <td>384.000000</td>\n",
       "      <td>384.000000</td>\n",
       "      <td>383.000000</td>\n",
       "      <td>383.000000</td>\n",
       "    </tr>\n",
       "    <tr>\n",
       "      <th>mean</th>\n",
       "      <td>7.0</td>\n",
       "      <td>8.672500</td>\n",
       "      <td>77.523438</td>\n",
       "      <td>141.603133</td>\n",
       "      <td>89.362924</td>\n",
       "    </tr>\n",
       "    <tr>\n",
       "      <th>std</th>\n",
       "      <td>0.0</td>\n",
       "      <td>0.880823</td>\n",
       "      <td>19.432268</td>\n",
       "      <td>31.004208</td>\n",
       "      <td>10.651863</td>\n",
       "    </tr>\n",
       "    <tr>\n",
       "      <th>min</th>\n",
       "      <td>7.0</td>\n",
       "      <td>6.700000</td>\n",
       "      <td>0.000000</td>\n",
       "      <td>33.000000</td>\n",
       "      <td>20.000000</td>\n",
       "    </tr>\n",
       "    <tr>\n",
       "      <th>25%</th>\n",
       "      <td>7.0</td>\n",
       "      <td>8.000000</td>\n",
       "      <td>75.000000</td>\n",
       "      <td>124.000000</td>\n",
       "      <td>84.000000</td>\n",
       "    </tr>\n",
       "    <tr>\n",
       "      <th>50%</th>\n",
       "      <td>7.0</td>\n",
       "      <td>8.700000</td>\n",
       "      <td>81.000000</td>\n",
       "      <td>143.000000</td>\n",
       "      <td>92.000000</td>\n",
       "    </tr>\n",
       "    <tr>\n",
       "      <th>75%</th>\n",
       "      <td>7.0</td>\n",
       "      <td>9.200000</td>\n",
       "      <td>90.000000</td>\n",
       "      <td>160.000000</td>\n",
       "      <td>96.000000</td>\n",
       "    </tr>\n",
       "    <tr>\n",
       "      <th>max</th>\n",
       "      <td>7.0</td>\n",
       "      <td>12.900000</td>\n",
       "      <td>100.000000</td>\n",
       "      <td>234.000000</td>\n",
       "      <td>100.000000</td>\n",
       "    </tr>\n",
       "  </tbody>\n",
       "</table>\n",
       "</div>"
      ],
      "text/plain": [
       "       Grade   50m_grade   50m_point  TiaoSheng_grade  TiaoSheng_point\n",
       "count  386.0  384.000000  384.000000       383.000000       383.000000\n",
       "mean     7.0    8.672500   77.523438       141.603133        89.362924\n",
       "std      0.0    0.880823   19.432268        31.004208        10.651863\n",
       "min      7.0    6.700000    0.000000        33.000000        20.000000\n",
       "25%      7.0    8.000000   75.000000       124.000000        84.000000\n",
       "50%      7.0    8.700000   81.000000       143.000000        92.000000\n",
       "75%      7.0    9.200000   90.000000       160.000000        96.000000\n",
       "max      7.0   12.900000  100.000000       234.000000       100.000000"
      ]
     },
     "execution_count": 6,
     "metadata": {},
     "output_type": "execute_result"
    }
   ],
   "source": [
    "# 提取“过程性评价”初一数据\n",
    "data_7 = pd.read_csv(\"/Users/yawenhan/Documents/Python/盛学原始数据/17-18_grade7.csv\")\n",
    "df7 = pd.DataFrame(data_7)\n",
    "d7=data_7.describe()\n",
    "d7"
   ]
  },
  {
   "cell_type": "markdown",
   "metadata": {},
   "source": [
    "首先对“过程性评价”的初一数据进行分析，只分析与“体质体检”初一学生中的相同测试项目“50m”，“跳绳”。上表显示了数据量，平均值，标准差，最大，最小，25%，中值，75%等信息。"
   ]
  },
  {
   "cell_type": "markdown",
   "metadata": {},
   "source": [
    "### 2）过程性评价（1718）初二数据"
   ]
  },
  {
   "cell_type": "markdown",
   "metadata": {},
   "source": [
    "提取“过程性评价”初二数据："
   ]
  },
  {
   "cell_type": "code",
   "execution_count": 7,
   "metadata": {},
   "outputs": [
    {
     "data": {
      "text/html": [
       "<div>\n",
       "<style scoped>\n",
       "    .dataframe tbody tr th:only-of-type {\n",
       "        vertical-align: middle;\n",
       "    }\n",
       "\n",
       "    .dataframe tbody tr th {\n",
       "        vertical-align: top;\n",
       "    }\n",
       "\n",
       "    .dataframe thead th {\n",
       "        text-align: right;\n",
       "    }\n",
       "</style>\n",
       "<table border=\"1\" class=\"dataframe\">\n",
       "  <thead>\n",
       "    <tr style=\"text-align: right;\">\n",
       "      <th></th>\n",
       "      <th>Grade</th>\n",
       "      <th>LiDingTiaoYuan_grade</th>\n",
       "      <th>LiDingTiaoYuan_point</th>\n",
       "      <th>TiaoSheng_grade</th>\n",
       "      <th>TiaoSheng_point</th>\n",
       "      <th>DanGang_point</th>\n",
       "    </tr>\n",
       "  </thead>\n",
       "  <tbody>\n",
       "    <tr>\n",
       "      <th>count</th>\n",
       "      <td>352.0</td>\n",
       "      <td>349.000000</td>\n",
       "      <td>342.000000</td>\n",
       "      <td>332.000000</td>\n",
       "      <td>332.000000</td>\n",
       "      <td>334.000000</td>\n",
       "    </tr>\n",
       "    <tr>\n",
       "      <th>mean</th>\n",
       "      <td>8.0</td>\n",
       "      <td>178.948424</td>\n",
       "      <td>63.380117</td>\n",
       "      <td>156.379518</td>\n",
       "      <td>93.701807</td>\n",
       "      <td>88.796407</td>\n",
       "    </tr>\n",
       "    <tr>\n",
       "      <th>std</th>\n",
       "      <td>0.0</td>\n",
       "      <td>27.074454</td>\n",
       "      <td>21.457630</td>\n",
       "      <td>23.687937</td>\n",
       "      <td>7.046560</td>\n",
       "      <td>7.099498</td>\n",
       "    </tr>\n",
       "    <tr>\n",
       "      <th>min</th>\n",
       "      <td>8.0</td>\n",
       "      <td>100.000000</td>\n",
       "      <td>0.000000</td>\n",
       "      <td>45.000000</td>\n",
       "      <td>40.000000</td>\n",
       "      <td>0.000000</td>\n",
       "    </tr>\n",
       "    <tr>\n",
       "      <th>25%</th>\n",
       "      <td>8.0</td>\n",
       "      <td>160.000000</td>\n",
       "      <td>60.000000</td>\n",
       "      <td>140.000000</td>\n",
       "      <td>90.000000</td>\n",
       "      <td>85.000000</td>\n",
       "    </tr>\n",
       "    <tr>\n",
       "      <th>50%</th>\n",
       "      <td>8.0</td>\n",
       "      <td>177.000000</td>\n",
       "      <td>66.000000</td>\n",
       "      <td>157.000000</td>\n",
       "      <td>94.000000</td>\n",
       "      <td>90.000000</td>\n",
       "    </tr>\n",
       "    <tr>\n",
       "      <th>75%</th>\n",
       "      <td>8.0</td>\n",
       "      <td>197.000000</td>\n",
       "      <td>75.000000</td>\n",
       "      <td>174.000000</td>\n",
       "      <td>100.000000</td>\n",
       "      <td>93.000000</td>\n",
       "    </tr>\n",
       "    <tr>\n",
       "      <th>max</th>\n",
       "      <td>8.0</td>\n",
       "      <td>253.000000</td>\n",
       "      <td>100.000000</td>\n",
       "      <td>210.000000</td>\n",
       "      <td>100.000000</td>\n",
       "      <td>100.000000</td>\n",
       "    </tr>\n",
       "  </tbody>\n",
       "</table>\n",
       "</div>"
      ],
      "text/plain": [
       "       Grade  LiDingTiaoYuan_grade  LiDingTiaoYuan_point  TiaoSheng_grade  \\\n",
       "count  352.0            349.000000            342.000000       332.000000   \n",
       "mean     8.0            178.948424             63.380117       156.379518   \n",
       "std      0.0             27.074454             21.457630        23.687937   \n",
       "min      8.0            100.000000              0.000000        45.000000   \n",
       "25%      8.0            160.000000             60.000000       140.000000   \n",
       "50%      8.0            177.000000             66.000000       157.000000   \n",
       "75%      8.0            197.000000             75.000000       174.000000   \n",
       "max      8.0            253.000000            100.000000       210.000000   \n",
       "\n",
       "       TiaoSheng_point  DanGang_point  \n",
       "count       332.000000     334.000000  \n",
       "mean         93.701807      88.796407  \n",
       "std           7.046560       7.099498  \n",
       "min          40.000000       0.000000  \n",
       "25%          90.000000      85.000000  \n",
       "50%          94.000000      90.000000  \n",
       "75%         100.000000      93.000000  \n",
       "max         100.000000     100.000000  "
      ]
     },
     "execution_count": 7,
     "metadata": {},
     "output_type": "execute_result"
    }
   ],
   "source": [
    "# 提取“过程性评价”初二数据\n",
    "data_8 = pd.read_csv(\"/Users/yawenhan/Documents/Python/盛学原始数据/17-18_grade8.csv\")\n",
    "df8 = pd.DataFrame(data_8)\n",
    "df8['LiDingTiaoYuan_grade']=df8['LiDingTiaoYuan_grade']*100\n",
    "d8=data_8.describe()\n",
    "d8"
   ]
  },
  {
   "cell_type": "markdown",
   "metadata": {},
   "source": [
    "其次对“过程性评价”的初二数据进行分析，只分析与“体质体检”初二学生中的相同测试项目“立定跳远”，“跳绳”，和“引体向上”（1.在“过程性评价”中标记为“单杠”；2.引体向上只有得分，没有成绩）。上表显示了数据量，平均值，标准差，最大，最小，25%，中值，75%等信息。"
   ]
  },
  {
   "cell_type": "markdown",
   "metadata": {},
   "source": [
    "## 三、 初一学生“体质体检”与“过程性评价”结果对比"
   ]
  },
  {
   "cell_type": "markdown",
   "metadata": {},
   "source": [
    "* 注意：仅使用第一、二部分得到的数据进行分析（只使用了在初一年级的数据，未用其它年级的数据，如对“体质体检”的“50m”只用了初一的成绩）"
   ]
  },
  {
   "cell_type": "markdown",
   "metadata": {},
   "source": [
    "初一学生“体质体检”与“过程性评价”相同项目的数据合并："
   ]
  },
  {
   "cell_type": "code",
   "execution_count": 8,
   "metadata": {
    "scrolled": true
   },
   "outputs": [
    {
     "name": "stderr",
     "output_type": "stream",
     "text": [
      "/anaconda3/lib/python3.6/site-packages/pandas/core/frame.py:3137: SettingWithCopyWarning: \n",
      "A value is trying to be set on a copy of a slice from a DataFrame.\n",
      "Try using .loc[row_indexer,col_indexer] = value instead\n",
      "\n",
      "See the caveats in the documentation: http://pandas.pydata.org/pandas-docs/stable/indexing.html#indexing-view-versus-copy\n",
      "  self[k1] = value[k2]\n"
     ]
    },
    {
     "data": {
      "text/html": [
       "<div>\n",
       "<style scoped>\n",
       "    .dataframe tbody tr th:only-of-type {\n",
       "        vertical-align: middle;\n",
       "    }\n",
       "\n",
       "    .dataframe tbody tr th {\n",
       "        vertical-align: top;\n",
       "    }\n",
       "\n",
       "    .dataframe thead tr th {\n",
       "        text-align: left;\n",
       "    }\n",
       "</style>\n",
       "<table border=\"1\" class=\"dataframe\">\n",
       "  <thead>\n",
       "    <tr>\n",
       "      <th></th>\n",
       "      <th>50m_tztj_grade</th>\n",
       "      <th>50m_1718_grade</th>\n",
       "      <th>50m_tztj_point</th>\n",
       "      <th>50m_1718_point</th>\n",
       "      <th>TS_tztj_grade</th>\n",
       "      <th>TS_1718_grade</th>\n",
       "      <th>TS_tztj_point</th>\n",
       "      <th>TS_1718_point</th>\n",
       "    </tr>\n",
       "  </thead>\n",
       "  <tbody>\n",
       "    <tr>\n",
       "      <th>count</th>\n",
       "      <td>100355.000000</td>\n",
       "      <td>243.000000</td>\n",
       "      <td>100355.000000</td>\n",
       "      <td>243.000000</td>\n",
       "      <td>1171.000000</td>\n",
       "      <td>243.000000</td>\n",
       "      <td>1171.000000</td>\n",
       "      <td>243.000000</td>\n",
       "    </tr>\n",
       "    <tr>\n",
       "      <th>mean</th>\n",
       "      <td>8.812355</td>\n",
       "      <td>8.738889</td>\n",
       "      <td>78.506352</td>\n",
       "      <td>76.547325</td>\n",
       "      <td>126.111016</td>\n",
       "      <td>144.057613</td>\n",
       "      <td>77.228864</td>\n",
       "      <td>90.288066</td>\n",
       "    </tr>\n",
       "    <tr>\n",
       "      <th>std</th>\n",
       "      <td>0.981378</td>\n",
       "      <td>0.869024</td>\n",
       "      <td>16.495233</td>\n",
       "      <td>19.000892</td>\n",
       "      <td>36.075059</td>\n",
       "      <td>30.317820</td>\n",
       "      <td>18.789992</td>\n",
       "      <td>9.969340</td>\n",
       "    </tr>\n",
       "    <tr>\n",
       "      <th>min</th>\n",
       "      <td>5.020000</td>\n",
       "      <td>6.900000</td>\n",
       "      <td>0.000000</td>\n",
       "      <td>0.000000</td>\n",
       "      <td>0.000000</td>\n",
       "      <td>47.000000</td>\n",
       "      <td>0.000000</td>\n",
       "      <td>40.000000</td>\n",
       "    </tr>\n",
       "    <tr>\n",
       "      <th>25%</th>\n",
       "      <td>8.160000</td>\n",
       "      <td>8.100000</td>\n",
       "      <td>72.000000</td>\n",
       "      <td>69.000000</td>\n",
       "      <td>105.000000</td>\n",
       "      <td>128.000000</td>\n",
       "      <td>70.000000</td>\n",
       "      <td>87.000000</td>\n",
       "    </tr>\n",
       "    <tr>\n",
       "      <th>50%</th>\n",
       "      <td>8.730000</td>\n",
       "      <td>8.700000</td>\n",
       "      <td>78.000000</td>\n",
       "      <td>81.000000</td>\n",
       "      <td>129.000000</td>\n",
       "      <td>144.000000</td>\n",
       "      <td>78.000000</td>\n",
       "      <td>92.000000</td>\n",
       "    </tr>\n",
       "    <tr>\n",
       "      <th>75%</th>\n",
       "      <td>9.400000</td>\n",
       "      <td>9.300000</td>\n",
       "      <td>90.000000</td>\n",
       "      <td>90.000000</td>\n",
       "      <td>151.000000</td>\n",
       "      <td>163.500000</td>\n",
       "      <td>90.000000</td>\n",
       "      <td>98.000000</td>\n",
       "    </tr>\n",
       "    <tr>\n",
       "      <th>max</th>\n",
       "      <td>20.000000</td>\n",
       "      <td>12.900000</td>\n",
       "      <td>100.000000</td>\n",
       "      <td>100.000000</td>\n",
       "      <td>236.000000</td>\n",
       "      <td>234.000000</td>\n",
       "      <td>100.000000</td>\n",
       "      <td>100.000000</td>\n",
       "    </tr>\n",
       "  </tbody>\n",
       "</table>\n",
       "</div>"
      ],
      "text/plain": [
       "      50m_tztj_grade 50m_1718_grade 50m_tztj_point 50m_1718_point  \\\n",
       "count  100355.000000     243.000000  100355.000000     243.000000   \n",
       "mean        8.812355       8.738889      78.506352      76.547325   \n",
       "std         0.981378       0.869024      16.495233      19.000892   \n",
       "min         5.020000       6.900000       0.000000       0.000000   \n",
       "25%         8.160000       8.100000      72.000000      69.000000   \n",
       "50%         8.730000       8.700000      78.000000      81.000000   \n",
       "75%         9.400000       9.300000      90.000000      90.000000   \n",
       "max        20.000000      12.900000     100.000000     100.000000   \n",
       "\n",
       "      TS_tztj_grade TS_1718_grade TS_tztj_point TS_1718_point  \n",
       "count   1171.000000    243.000000   1171.000000    243.000000  \n",
       "mean     126.111016    144.057613     77.228864     90.288066  \n",
       "std       36.075059     30.317820     18.789992      9.969340  \n",
       "min        0.000000     47.000000      0.000000     40.000000  \n",
       "25%      105.000000    128.000000     70.000000     87.000000  \n",
       "50%      129.000000    144.000000     78.000000     92.000000  \n",
       "75%      151.000000    163.500000     90.000000     98.000000  \n",
       "max      236.000000    234.000000    100.000000    100.000000  "
      ]
     },
     "execution_count": 8,
     "metadata": {},
     "output_type": "execute_result"
    }
   ],
   "source": [
    "# 初一学生“体质体检”与“过程性评价”相同项目的数据合并\n",
    "dc7 = data_origin7[['50m_grade','50m_point','TS_grade','TS_point']]\n",
    "dc7[['50m_1718_grade','50m_1718_point','TS_1718_grade','TS_1718_point']]=df7[['50m_grade','50m_point','TiaoSheng_grade','TiaoSheng_point']]\n",
    "dc7.columns = [['50m_tztj_grade','50m_tztj_point','TS_tztj_grade','TS_tztj_point','50m_1718_grade','50m_1718_point','TS_1718_grade','TS_1718_point']]\n",
    "dc7=dc7[['50m_tztj_grade','50m_1718_grade','50m_tztj_point','50m_1718_point','TS_tztj_grade','TS_1718_grade','TS_tztj_point','TS_1718_point']]\n",
    "dc7.describe()"
   ]
  },
  {
   "cell_type": "markdown",
   "metadata": {},
   "source": [
    "上表是对初一学生“体质体检”与“过程性评价”的数据量，平均值，标准差，最大，最小，25%，中值，75%等信息的对比，通过下面的箱线图使对比更加直观明显。"
   ]
  },
  {
   "cell_type": "code",
   "execution_count": 9,
   "metadata": {},
   "outputs": [
    {
     "data": {
      "text/plain": [
       "Text(0.5,1,'TiaoSheng_point')"
      ]
     },
     "execution_count": 9,
     "metadata": {},
     "output_type": "execute_result"
    },
    {
     "data": {
      "image/png": "[encoded data removed]",
      "text/plain": [
       "<Figure size 1440x432 with 4 Axes>"
      ]
     },
     "metadata": {},
     "output_type": "display_data"
    }
   ],
   "source": [
    "#作出箱线图\n",
    "fig,(a,b,c,d)=plt.subplots(1,4,figsize=(20,6))\n",
    "sns.boxplot(data=dc7[['50m_tztj_grade','50m_1718_grade']],ax=a)\n",
    "a.set_title('50m_grade')\n",
    "sns.boxplot(data=dc7[['50m_tztj_point','50m_1718_point']],ax=b)\n",
    "b.set_title('50m_point')\n",
    "sns.boxplot(data=dc7[['TS_tztj_grade','TS_1718_grade']],ax=c)\n",
    "c.set_title('TiaoSheng_grade')\n",
    "sns.boxplot(data=dc7[['TS_tztj_point','TS_1718_point']],ax=d)\n",
    "d.set_title('TiaoSheng_point')\n",
    "#plt.xticks(rotation='vertical')"
   ]
  },
  {
   "cell_type": "markdown",
   "metadata": {},
   "source": [
    "上图的箱线图主要包含五个数据节点，每一个“小箱子”代表数据从大到小排列共有5道横线，分别代表这组数据的 最大值（max），上四分位数（75%），中位数（50%），下四分位数（25%），最小值，图外的小黑点被认为是异常值（偏离大部分数据的点）。箱子内部涂色数据代表这组数据的25%-75%这一部分，因此箱子的宽度在一定程度上反映了数据的波动程度，由于它们受极值和异常值影响小，对比更具有代表性。\n",
    "\n",
    "上面4个箱线图分别是关于“50m成绩”，“50m分数”，“跳绳成绩”和“跳绳分数”四个方面对“体质体检”和“过程性评价”两组测量数据进行对比，其中蓝色“小箱子”代表“体质体检”，黄色“小箱子”代表“过程性评价”。\n",
    "\n",
    "通过上图，可以看出对于初一学生：\n",
    "*  “50m成绩”- 两组数据平均水平（中位数），波动程度（箱子宽度）都很类似；“体质体检”异常值相对多出很多=〉可能是体质体检数据总数（10万）远多于“过程性评价”（243个）；\n",
    "*  “50m分数”- 两组数据平均水平（中位数）类似；“过程性评价”波动程度（箱子宽度）更大=〉主要集中在最小值-50%之间；而“体质体检”异常值更多=〉可能是体质体检数据总数（10万）远多于“过程性评价”（243个）；\n",
    "*  “跳绳成绩”-“过程性评价”平均水平（中位数），波动程度（箱子宽度）结果都好于“体质体检”，但仍有部分重合，差别不明显 \n",
    "*  “跳绳分数”- “过程性评价”平均水平（中位数），波动程度（箱子宽度）结果都好于“体质体检”，仅有小部分重合，差别较为明显\n",
    "\n",
    "\n",
    "总结：\n",
    "对初一学生，“体质体检”与“过程性评价”\n",
    "*  成绩：平均水平与波动程度差别不大\n",
    "*  分数：存在部分项目平均水平与波动程度有出入\n",
    " "
   ]
  },
  {
   "cell_type": "markdown",
   "metadata": {},
   "source": [
    "## 四、 初二学生“体质体检”与“过程性评价”结果对比"
   ]
  },
  {
   "cell_type": "markdown",
   "metadata": {},
   "source": [
    "* 注意：仅使用第一、二部分得到的数据进行分析（只用在初二年级的数据，未用其它的数据，如对“体质体检”的“立定跳远”和“引体向上”只用了初二的成绩）"
   ]
  },
  {
   "cell_type": "markdown",
   "metadata": {},
   "source": [
    "初二学生“体质体检”与“过程性评价”相同项目的数据合并："
   ]
  },
  {
   "cell_type": "code",
   "execution_count": 10,
   "metadata": {},
   "outputs": [
    {
     "name": "stderr",
     "output_type": "stream",
     "text": [
      "/anaconda3/lib/python3.6/site-packages/pandas/core/frame.py:3137: SettingWithCopyWarning: \n",
      "A value is trying to be set on a copy of a slice from a DataFrame.\n",
      "Try using .loc[row_indexer,col_indexer] = value instead\n",
      "\n",
      "See the caveats in the documentation: http://pandas.pydata.org/pandas-docs/stable/indexing.html#indexing-view-versus-copy\n",
      "  self[k1] = value[k2]\n"
     ]
    },
    {
     "data": {
      "text/html": [
       "<div>\n",
       "<style scoped>\n",
       "    .dataframe tbody tr th:only-of-type {\n",
       "        vertical-align: middle;\n",
       "    }\n",
       "\n",
       "    .dataframe tbody tr th {\n",
       "        vertical-align: top;\n",
       "    }\n",
       "\n",
       "    .dataframe thead tr th {\n",
       "        text-align: left;\n",
       "    }\n",
       "</style>\n",
       "<table border=\"1\" class=\"dataframe\">\n",
       "  <thead>\n",
       "    <tr>\n",
       "      <th></th>\n",
       "      <th>TS_tztj_grade</th>\n",
       "      <th>TS_1718_grade</th>\n",
       "      <th>TS_tztj_point</th>\n",
       "      <th>TS_1718_point</th>\n",
       "      <th>LDTY_tztj_grade</th>\n",
       "      <th>LDTY_1718_grade</th>\n",
       "      <th>LDTY_tztj_point</th>\n",
       "      <th>LDTY_1718_point</th>\n",
       "      <th>YTXS_tztj_point</th>\n",
       "      <th>YTXS_1718_point</th>\n",
       "    </tr>\n",
       "  </thead>\n",
       "  <tbody>\n",
       "    <tr>\n",
       "      <th>count</th>\n",
       "      <td>0.0</td>\n",
       "      <td>48.000000</td>\n",
       "      <td>0.0</td>\n",
       "      <td>48.000000</td>\n",
       "      <td>82666.000000</td>\n",
       "      <td>53.000000</td>\n",
       "      <td>82666.0000</td>\n",
       "      <td>53.000000</td>\n",
       "      <td>43219.000000</td>\n",
       "      <td>45.000000</td>\n",
       "    </tr>\n",
       "    <tr>\n",
       "      <th>mean</th>\n",
       "      <td>NaN</td>\n",
       "      <td>153.625000</td>\n",
       "      <td>NaN</td>\n",
       "      <td>93.041667</td>\n",
       "      <td>181.572046</td>\n",
       "      <td>186.660377</td>\n",
       "      <td>71.9351</td>\n",
       "      <td>66.981132</td>\n",
       "      <td>33.321965</td>\n",
       "      <td>87.711111</td>\n",
       "    </tr>\n",
       "    <tr>\n",
       "      <th>std</th>\n",
       "      <td>NaN</td>\n",
       "      <td>23.978381</td>\n",
       "      <td>NaN</td>\n",
       "      <td>6.661922</td>\n",
       "      <td>35.963322</td>\n",
       "      <td>24.035185</td>\n",
       "      <td>19.9250</td>\n",
       "      <td>19.122571</td>\n",
       "      <td>32.413107</td>\n",
       "      <td>5.964372</td>\n",
       "    </tr>\n",
       "    <tr>\n",
       "      <th>min</th>\n",
       "      <td>NaN</td>\n",
       "      <td>100.000000</td>\n",
       "      <td>NaN</td>\n",
       "      <td>75.000000</td>\n",
       "      <td>0.000000</td>\n",
       "      <td>140.000000</td>\n",
       "      <td>0.0000</td>\n",
       "      <td>0.000000</td>\n",
       "      <td>0.000000</td>\n",
       "      <td>70.000000</td>\n",
       "    </tr>\n",
       "    <tr>\n",
       "      <th>25%</th>\n",
       "      <td>NaN</td>\n",
       "      <td>135.000000</td>\n",
       "      <td>NaN</td>\n",
       "      <td>90.000000</td>\n",
       "      <td>165.000000</td>\n",
       "      <td>170.000000</td>\n",
       "      <td>66.0000</td>\n",
       "      <td>63.000000</td>\n",
       "      <td>0.000000</td>\n",
       "      <td>85.000000</td>\n",
       "    </tr>\n",
       "    <tr>\n",
       "      <th>50%</th>\n",
       "      <td>NaN</td>\n",
       "      <td>152.500000</td>\n",
       "      <td>NaN</td>\n",
       "      <td>94.000000</td>\n",
       "      <td>182.000000</td>\n",
       "      <td>189.000000</td>\n",
       "      <td>74.0000</td>\n",
       "      <td>66.000000</td>\n",
       "      <td>20.000000</td>\n",
       "      <td>90.000000</td>\n",
       "    </tr>\n",
       "    <tr>\n",
       "      <th>75%</th>\n",
       "      <td>NaN</td>\n",
       "      <td>172.750000</td>\n",
       "      <td>NaN</td>\n",
       "      <td>100.000000</td>\n",
       "      <td>201.000000</td>\n",
       "      <td>202.000000</td>\n",
       "      <td>85.0000</td>\n",
       "      <td>75.000000</td>\n",
       "      <td>60.000000</td>\n",
       "      <td>90.000000</td>\n",
       "    </tr>\n",
       "    <tr>\n",
       "      <th>max</th>\n",
       "      <td>NaN</td>\n",
       "      <td>204.000000</td>\n",
       "      <td>NaN</td>\n",
       "      <td>100.000000</td>\n",
       "      <td>345.000000</td>\n",
       "      <td>240.000000</td>\n",
       "      <td>100.0000</td>\n",
       "      <td>98.000000</td>\n",
       "      <td>100.000000</td>\n",
       "      <td>100.000000</td>\n",
       "    </tr>\n",
       "  </tbody>\n",
       "</table>\n",
       "</div>"
      ],
      "text/plain": [
       "      TS_tztj_grade TS_1718_grade TS_tztj_point TS_1718_point LDTY_tztj_grade  \\\n",
       "count           0.0     48.000000           0.0     48.000000    82666.000000   \n",
       "mean            NaN    153.625000           NaN     93.041667      181.572046   \n",
       "std             NaN     23.978381           NaN      6.661922       35.963322   \n",
       "min             NaN    100.000000           NaN     75.000000        0.000000   \n",
       "25%             NaN    135.000000           NaN     90.000000      165.000000   \n",
       "50%             NaN    152.500000           NaN     94.000000      182.000000   \n",
       "75%             NaN    172.750000           NaN    100.000000      201.000000   \n",
       "max             NaN    204.000000           NaN    100.000000      345.000000   \n",
       "\n",
       "      LDTY_1718_grade LDTY_tztj_point LDTY_1718_point YTXS_tztj_point  \\\n",
       "count       53.000000      82666.0000       53.000000    43219.000000   \n",
       "mean       186.660377         71.9351       66.981132       33.321965   \n",
       "std         24.035185         19.9250       19.122571       32.413107   \n",
       "min        140.000000          0.0000        0.000000        0.000000   \n",
       "25%        170.000000         66.0000       63.000000        0.000000   \n",
       "50%        189.000000         74.0000       66.000000       20.000000   \n",
       "75%        202.000000         85.0000       75.000000       60.000000   \n",
       "max        240.000000        100.0000       98.000000      100.000000   \n",
       "\n",
       "      YTXS_1718_point  \n",
       "count       45.000000  \n",
       "mean        87.711111  \n",
       "std          5.964372  \n",
       "min         70.000000  \n",
       "25%         85.000000  \n",
       "50%         90.000000  \n",
       "75%         90.000000  \n",
       "max        100.000000  "
      ]
     },
     "execution_count": 10,
     "metadata": {},
     "output_type": "execute_result"
    }
   ],
   "source": [
    "# 初二学生“体质体检”与“过程性评价”相同项目的数据合并\n",
    "dc8 = data_origin8[['TS_grade','TS_point','LDTY_grade','LDTY_point','YTXS_point']]\n",
    "dc8[['TS_1718_grade','TS_1718_point','LDTY_1718_grade','LDTY_1718_point','YTXS_1718_point']]=df8[['TiaoSheng_grade','TiaoSheng_point','LiDingTiaoYuan_grade','LiDingTiaoYuan_point','DanGang_point']]\n",
    "dc8.columns = [['TS_tztj_grade','TS_tztj_point','LDTY_tztj_grade','LDTY_tztj_point','YTXS_tztj_point','TS_1718_grade','TS_1718_point','LDTY_1718_grade','LDTY_1718_point','YTXS_1718_point']]\n",
    "dc8=dc8[['TS_tztj_grade','TS_1718_grade','TS_tztj_point','TS_1718_point','LDTY_tztj_grade','LDTY_1718_grade','LDTY_tztj_point','LDTY_1718_point','YTXS_tztj_point','YTXS_1718_point']]\n",
    "dc8.describe()"
   ]
  },
  {
   "cell_type": "markdown",
   "metadata": {},
   "source": [
    "上表是对初二学生“体质体检”与“过程性评价”的数据量，平均值，标准差，最大，最小，25%，中值，75%等信息的对比，通过下面的箱线图使对比更加直观明显。\n",
    "\n",
    "*  注意：上表中“体质体检”的所有“跳绳成绩”和“跳绳分数”均为NaN（空值），表示“体质体检”数据库中并没有初二学生的“跳绳”成绩和得分， 或初二学生“体质体检”不含“跳绳”项目（但初一学生“体质体检”中含有“跳绳”项目）。"
   ]
  },
  {
   "cell_type": "code",
   "execution_count": 11,
   "metadata": {},
   "outputs": [
    {
     "data": {
      "text/plain": [
       "Text(0.5,1,'YinTiXiangShang_point')"
      ]
     },
     "execution_count": 11,
     "metadata": {},
     "output_type": "execute_result"
    },
    {
     "data": {
      "image/png": "[encoded data removed]",
      "text/plain": [
       "<Figure size 1440x432 with 5 Axes>"
      ]
     },
     "metadata": {},
     "output_type": "display_data"
    }
   ],
   "source": [
    "#绘制箱线图\n",
    "fig2,(a,b,c,d,e)=plt.subplots(1,5,figsize=(20,6))\n",
    "sns.boxplot(data=dc8[['TS_tztj_grade','TS_1718_grade']],ax=a)\n",
    "a.set_title('TiaoSheng_grade')\n",
    "sns.boxplot(data=dc8[['TS_tztj_point','TS_1718_point']],ax=b)\n",
    "b.set_title('TiaoSheng_point')\n",
    "sns.boxplot(data=dc8[['LDTY_tztj_grade','LDTY_1718_grade']],ax=c)\n",
    "c.set_title('LiDingTiaoYuan_grade')\n",
    "sns.boxplot(data=dc8[['LDTY_tztj_point','LDTY_1718_point']],ax=d)\n",
    "d.set_title('LiDingTiaoYuan_point')\n",
    "sns.boxplot(data=dc8[['YTXS_tztj_point','YTXS_1718_point']],ax=e)\n",
    "e.set_title('YinTiXiangShang_point')"
   ]
  },
  {
   "cell_type": "markdown",
   "metadata": {},
   "source": [
    "上图的箱线图主要包含五个数据节点，每一个“小箱子”代表数据从大到小排列共有5道横线，分别代表这组数据的 最大值（max），上四分位数（75%），中位数（50%），下四分位数（25%），最小值，图外的小黑点被认为是异常值（偏离大部分数据的点）。箱子内部涂色数据代表这组数据的25%-75%这一部分，因此箱子的宽度在一定程度上反映了数据的波动程度，由于它们受极值和异常值影响小，对比更具有代表性。\n",
    "\n",
    "上面5个箱线图分别是关于“跳绳成绩”，“跳绳分数”，“立定跳远成绩”，“立定跳远分数”和“引体向上分数”五个方面对“体质体检”和“过程性评价”两组测量数据进行对比，其中蓝色“小箱子”代表“体质体检”，黄色“小箱子”代表“过程性评价”。\n",
    "\n",
    "通过上图，可以看出对于初二学生：\n",
    "* “跳绳成绩”- “体质体检”中不含初二学生“跳绳成绩”，无法比较；\n",
    "* “跳绳分数”- “体质体检”中不含初二学生“跳绳分数”，无法比较；\n",
    "* “立定跳远成绩”-两组数据平均水平（中位数），波动程度（箱子宽度）都很类似；“体质体检”异常值相对多出很多=〉可能是体质体检数据总数（8万）远多于“过程性评价”（53个）；\n",
    "* “立定跳远分数”- “过程性评价”平均水平（中位数）低于“体质体检”，且“过程性评价”波动程度（箱子宽度）较小=〉有小部分重合，差别较为明显\n",
    "* “引体向上分数”-“过程性评价”平均水平（中位数）和波动程度（箱子宽度）均好于“体质体检”=〉几乎没有重合，存在非常明显的差别\n",
    " \n",
    " \n",
    " 总结：\n",
    "对初二学生，“体质体检”与“过程性评价”\n",
    "*  成绩：平均水平与波动程度差别不大\n",
    "*  分数：部分项目平均水平与波动程度存在明显差别"
   ]
  },
  {
   "cell_type": "markdown",
   "metadata": {},
   "source": [
    "## 五、（不分年级）“体质体检”与“过程性评价”结果综合对比"
   ]
  },
  {
   "cell_type": "markdown",
   "metadata": {},
   "source": [
    "* 注意：使用所有来自“体质体检”和“过程性评价”的数据进行分析（由于没有对初一、初二分别分析，所以不损失数据，因此给出的数据与上两个部分相比不会完全相同，会有些许差异）。"
   ]
  },
  {
   "cell_type": "markdown",
   "metadata": {},
   "source": [
    "### 1) 五值对比（最大值，最小值，中值，25%，75%）以及箱线图"
   ]
  },
  {
   "cell_type": "code",
   "execution_count": 12,
   "metadata": {},
   "outputs": [],
   "source": [
    "# 导入数据库\n",
    "data_total1 = pd.read_csv(\"/Users/yawenhan/Documents/Python/盛学原始数据/17-18_grade7and8.csv\")\n",
    "df = pd.DataFrame(data_total1)\n",
    "del data_total1['Gender']"
   ]
  },
  {
   "cell_type": "code",
   "execution_count": 13,
   "metadata": {},
   "outputs": [],
   "source": [
    "data_total2=data_origin[['50m_grade','50m_point','TS_grade','TS_point','LDTY_grade','LDTY_point','YTXS_point']]\n",
    "data_total2.columns=[['50m_tztj_grade','50m_tztj_point','TS_tztj_grade','TS_tztj_point','LDTY_tztj_grade','LDTY_tztj_point','YTXS_tztj_point']]"
   ]
  },
  {
   "cell_type": "code",
   "execution_count": 14,
   "metadata": {},
   "outputs": [
    {
     "name": "stderr",
     "output_type": "stream",
     "text": [
      "/anaconda3/lib/python3.6/site-packages/pandas/core/frame.py:3137: SettingWithCopyWarning: \n",
      "A value is trying to be set on a copy of a slice from a DataFrame.\n",
      "Try using .loc[row_indexer,col_indexer] = value instead\n",
      "\n",
      "See the caveats in the documentation: http://pandas.pydata.org/pandas-docs/stable/indexing.html#indexing-view-versus-copy\n",
      "  self[k1] = value[k2]\n"
     ]
    }
   ],
   "source": [
    "data_total2[['50m_1718_grade','50m_1718_point','TS_1718_grade','TS_1718_point','LDTY_1718_grade','LDTY_1718_point','YTXS_1718_point']]=data_total1[['50m_grade','50m_point','TiaoSheng_grade','TiaoSheng_point','LiDingTiaoYuan_grade','LiDingTiaoYuan_point','DanGang_point']]\n",
    "data_total2=data_total2[['50m_1718_grade','50m_tztj_grade','50m_1718_point','50m_tztj_point','TS_1718_grade','TS_tztj_grade','TS_1718_point','TS_tztj_point','LDTY_1718_grade','LDTY_tztj_grade','LDTY_1718_point','LDTY_tztj_point','YTXS_1718_point','YTXS_tztj_point']]"
   ]
  },
  {
   "cell_type": "code",
   "execution_count": 15,
   "metadata": {},
   "outputs": [
    {
     "data": {
      "text/html": [
       "<div>\n",
       "<style scoped>\n",
       "    .dataframe tbody tr th:only-of-type {\n",
       "        vertical-align: middle;\n",
       "    }\n",
       "\n",
       "    .dataframe tbody tr th {\n",
       "        vertical-align: top;\n",
       "    }\n",
       "\n",
       "    .dataframe thead tr th {\n",
       "        text-align: left;\n",
       "    }\n",
       "</style>\n",
       "<table border=\"1\" class=\"dataframe\">\n",
       "  <thead>\n",
       "    <tr>\n",
       "      <th></th>\n",
       "      <th>50m_1718_grade</th>\n",
       "      <th>50m_tztj_grade</th>\n",
       "      <th>50m_1718_point</th>\n",
       "      <th>50m_tztj_point</th>\n",
       "      <th>TS_1718_grade</th>\n",
       "      <th>TS_tztj_grade</th>\n",
       "      <th>TS_1718_point</th>\n",
       "      <th>TS_tztj_point</th>\n",
       "      <th>LDTY_1718_grade</th>\n",
       "      <th>LDTY_tztj_grade</th>\n",
       "      <th>LDTY_1718_point</th>\n",
       "      <th>LDTY_tztj_point</th>\n",
       "      <th>YTXS_1718_point</th>\n",
       "      <th>YTXS_tztj_point</th>\n",
       "    </tr>\n",
       "  </thead>\n",
       "  <tbody>\n",
       "    <tr>\n",
       "      <th>count</th>\n",
       "      <td>384.000000</td>\n",
       "      <td>249744.000000</td>\n",
       "      <td>384.000000</td>\n",
       "      <td>249744.000000</td>\n",
       "      <td>715.000000</td>\n",
       "      <td>1171.000000</td>\n",
       "      <td>715.000000</td>\n",
       "      <td>1171.000000</td>\n",
       "      <td>352.000000</td>\n",
       "      <td>252824.000000</td>\n",
       "      <td>342.000000</td>\n",
       "      <td>252824.000000</td>\n",
       "      <td>334.000000</td>\n",
       "      <td>133717.000000</td>\n",
       "    </tr>\n",
       "    <tr>\n",
       "      <th>mean</th>\n",
       "      <td>8.672500</td>\n",
       "      <td>8.547133</td>\n",
       "      <td>77.523438</td>\n",
       "      <td>80.283042</td>\n",
       "      <td>148.464336</td>\n",
       "      <td>126.111016</td>\n",
       "      <td>91.377622</td>\n",
       "      <td>77.228864</td>\n",
       "      <td>177.423295</td>\n",
       "      <td>180.737264</td>\n",
       "      <td>63.380117</td>\n",
       "      <td>72.251009</td>\n",
       "      <td>88.796407</td>\n",
       "      <td>33.376773</td>\n",
       "    </tr>\n",
       "    <tr>\n",
       "      <th>std</th>\n",
       "      <td>0.880823</td>\n",
       "      <td>1.012675</td>\n",
       "      <td>19.432268</td>\n",
       "      <td>15.695669</td>\n",
       "      <td>28.788854</td>\n",
       "      <td>36.075059</td>\n",
       "      <td>9.402756</td>\n",
       "      <td>18.789992</td>\n",
       "      <td>31.593119</td>\n",
       "      <td>36.059923</td>\n",
       "      <td>21.457630</td>\n",
       "      <td>19.584888</td>\n",
       "      <td>7.099498</td>\n",
       "      <td>33.000374</td>\n",
       "    </tr>\n",
       "    <tr>\n",
       "      <th>min</th>\n",
       "      <td>6.700000</td>\n",
       "      <td>5.000000</td>\n",
       "      <td>0.000000</td>\n",
       "      <td>0.000000</td>\n",
       "      <td>33.000000</td>\n",
       "      <td>0.000000</td>\n",
       "      <td>20.000000</td>\n",
       "      <td>0.000000</td>\n",
       "      <td>0.000000</td>\n",
       "      <td>0.000000</td>\n",
       "      <td>0.000000</td>\n",
       "      <td>0.000000</td>\n",
       "      <td>0.000000</td>\n",
       "      <td>0.000000</td>\n",
       "    </tr>\n",
       "    <tr>\n",
       "      <th>25%</th>\n",
       "      <td>8.000000</td>\n",
       "      <td>7.900000</td>\n",
       "      <td>75.000000</td>\n",
       "      <td>72.000000</td>\n",
       "      <td>132.000000</td>\n",
       "      <td>105.000000</td>\n",
       "      <td>88.500000</td>\n",
       "      <td>70.000000</td>\n",
       "      <td>160.000000</td>\n",
       "      <td>165.000000</td>\n",
       "      <td>60.000000</td>\n",
       "      <td>66.000000</td>\n",
       "      <td>85.000000</td>\n",
       "      <td>0.000000</td>\n",
       "    </tr>\n",
       "    <tr>\n",
       "      <th>50%</th>\n",
       "      <td>8.700000</td>\n",
       "      <td>8.500000</td>\n",
       "      <td>81.000000</td>\n",
       "      <td>78.000000</td>\n",
       "      <td>150.000000</td>\n",
       "      <td>129.000000</td>\n",
       "      <td>92.000000</td>\n",
       "      <td>78.000000</td>\n",
       "      <td>176.000000</td>\n",
       "      <td>180.000000</td>\n",
       "      <td>66.000000</td>\n",
       "      <td>76.000000</td>\n",
       "      <td>90.000000</td>\n",
       "      <td>30.000000</td>\n",
       "    </tr>\n",
       "    <tr>\n",
       "      <th>75%</th>\n",
       "      <td>9.200000</td>\n",
       "      <td>9.130000</td>\n",
       "      <td>90.000000</td>\n",
       "      <td>95.000000</td>\n",
       "      <td>171.000000</td>\n",
       "      <td>151.000000</td>\n",
       "      <td>100.000000</td>\n",
       "      <td>90.000000</td>\n",
       "      <td>196.250000</td>\n",
       "      <td>200.000000</td>\n",
       "      <td>75.000000</td>\n",
       "      <td>85.000000</td>\n",
       "      <td>93.000000</td>\n",
       "      <td>60.000000</td>\n",
       "    </tr>\n",
       "    <tr>\n",
       "      <th>max</th>\n",
       "      <td>12.900000</td>\n",
       "      <td>20.000000</td>\n",
       "      <td>100.000000</td>\n",
       "      <td>100.000000</td>\n",
       "      <td>234.000000</td>\n",
       "      <td>236.000000</td>\n",
       "      <td>100.000000</td>\n",
       "      <td>100.000000</td>\n",
       "      <td>253.000000</td>\n",
       "      <td>360.000000</td>\n",
       "      <td>100.000000</td>\n",
       "      <td>100.000000</td>\n",
       "      <td>100.000000</td>\n",
       "      <td>100.000000</td>\n",
       "    </tr>\n",
       "  </tbody>\n",
       "</table>\n",
       "</div>"
      ],
      "text/plain": [
       "      50m_1718_grade 50m_tztj_grade 50m_1718_point 50m_tztj_point  \\\n",
       "count     384.000000  249744.000000     384.000000  249744.000000   \n",
       "mean        8.672500       8.547133      77.523438      80.283042   \n",
       "std         0.880823       1.012675      19.432268      15.695669   \n",
       "min         6.700000       5.000000       0.000000       0.000000   \n",
       "25%         8.000000       7.900000      75.000000      72.000000   \n",
       "50%         8.700000       8.500000      81.000000      78.000000   \n",
       "75%         9.200000       9.130000      90.000000      95.000000   \n",
       "max        12.900000      20.000000     100.000000     100.000000   \n",
       "\n",
       "      TS_1718_grade TS_tztj_grade TS_1718_point TS_tztj_point LDTY_1718_grade  \\\n",
       "count    715.000000   1171.000000    715.000000   1171.000000      352.000000   \n",
       "mean     148.464336    126.111016     91.377622     77.228864      177.423295   \n",
       "std       28.788854     36.075059      9.402756     18.789992       31.593119   \n",
       "min       33.000000      0.000000     20.000000      0.000000        0.000000   \n",
       "25%      132.000000    105.000000     88.500000     70.000000      160.000000   \n",
       "50%      150.000000    129.000000     92.000000     78.000000      176.000000   \n",
       "75%      171.000000    151.000000    100.000000     90.000000      196.250000   \n",
       "max      234.000000    236.000000    100.000000    100.000000      253.000000   \n",
       "\n",
       "      LDTY_tztj_grade LDTY_1718_point LDTY_tztj_point YTXS_1718_point  \\\n",
       "count   252824.000000      342.000000   252824.000000      334.000000   \n",
       "mean       180.737264       63.380117       72.251009       88.796407   \n",
       "std         36.059923       21.457630       19.584888        7.099498   \n",
       "min          0.000000        0.000000        0.000000        0.000000   \n",
       "25%        165.000000       60.000000       66.000000       85.000000   \n",
       "50%        180.000000       66.000000       76.000000       90.000000   \n",
       "75%        200.000000       75.000000       85.000000       93.000000   \n",
       "max        360.000000      100.000000      100.000000      100.000000   \n",
       "\n",
       "      YTXS_tztj_point  \n",
       "count   133717.000000  \n",
       "mean        33.376773  \n",
       "std         33.000374  \n",
       "min          0.000000  \n",
       "25%          0.000000  \n",
       "50%         30.000000  \n",
       "75%         60.000000  \n",
       "max        100.000000  "
      ]
     },
     "execution_count": 15,
     "metadata": {},
     "output_type": "execute_result"
    }
   ],
   "source": [
    "data_total2.describe()#五值对比"
   ]
  },
  {
   "cell_type": "markdown",
   "metadata": {},
   "source": [
    "上表是对初一、初二全体学生“体质体检”与“过程性评价”的数据量，平均值，标准差，最大，最小，25%，中值，75%等信息的对比，通过下面的箱线图使对比更加直观明显。"
   ]
  },
  {
   "cell_type": "code",
   "execution_count": 16,
   "metadata": {},
   "outputs": [
    {
     "data": {
      "text/plain": [
       "Text(0.5,1,'YinTiXiangShang_point')"
      ]
     },
     "execution_count": 16,
     "metadata": {},
     "output_type": "execute_result"
    },
    {
     "data": {
      "image/png": "[encoded data removed]",
      "text/plain": [
       "<Figure size 1872x576 with 7 Axes>"
      ]
     },
     "metadata": {},
     "output_type": "display_data"
    }
   ],
   "source": [
    "#绘制箱线图（中心位置，发散程度，偏差程度）\n",
    "fig3,(a,b,c,d,e,f,g)=plt.subplots(1,7,figsize=(26,8))\n",
    "sns.boxplot(data=data_total2[['50m_tztj_grade','50m_1718_grade']],ax=a)\n",
    "a.set_title('50m_grade')\n",
    "sns.boxplot(data=data_total2[['50m_tztj_point','50m_1718_point']],ax=b)\n",
    "b.set_title('50m_point')\n",
    "sns.boxplot(data=data_total2[['TS_tztj_grade','TS_1718_grade']],ax=c)\n",
    "c.set_title('TiaoSheng_grade')\n",
    "sns.boxplot(data=data_total2[['TS_tztj_point','TS_1718_point']],ax=d)\n",
    "d.set_title('TiaoSheng_point')\n",
    "sns.boxplot(data=data_total2[['LDTY_tztj_grade','LDTY_1718_grade']],ax=e)\n",
    "e.set_title('LiDingTiaoYuan_grade')\n",
    "sns.boxplot(data=data_total2[['LDTY_tztj_point','LDTY_1718_point']],ax=f)\n",
    "f.set_title('LiDingTiaoYuan_point')\n",
    "sns.boxplot(data=data_total2[['YTXS_tztj_point','YTXS_1718_point']],ax=g)\n",
    "g.set_title('YinTiXiangShang_point')"
   ]
  },
  {
   "cell_type": "markdown",
   "metadata": {},
   "source": [
    "上图的箱线图主要包含五个数据节点，每一个“小箱子”代表数据从大到小排列共有5道横线，分别代表这组数据的 最大值（max），上四分位数（75%），中位数（50%），下四分位数（25%），最小值，图外的小黑点被认为是异常值（偏离大部分数据的点）。箱子内部涂色数据代表这组数据的25%-75%这一部分，因此箱子的宽度在一定程度上反映了数据的波动程度，由于它们受极值和异常值影响小，对比更具有代表性。\n",
    "\n",
    "上面5个箱线图分别是关于“50m成绩”，“50m分数”，“跳绳成绩”，“跳绳分数”，“立定跳远成绩”，“立定跳远分数”和“引体向上分数”七个方面对“体质体检”和“过程性评价”两组测量数据进行对比，其中蓝色“小箱子”代表“体质体检”，黄色“小箱子”代表“过程性评价”。\n",
    "\n",
    "通过上图，可以看出对于初一、初二全体学生：\n",
    "*  “50m成绩”-两组数据平均水平（中位数），波动程度（箱子宽度）都很类似；“体质体检”异常值相对多出很多=〉可能是体质体检数据总数（25万）远多于“过程性评价”（384个）；\n",
    "*  “50m分数”- 两组数据平均水平（中位数）类似；“过程性评价”波动程度（箱子宽度）更小=〉主要集中在50%-75%之间， 与初一“50m”波动程度恰好相反；\n",
    "*  “跳绳成绩”- “过程性评价”平均水平（中位数）高于“体质体检”，“过程性评价”波动程度（箱子宽度）较小=〉有小部分重合，差别较为明显；\n",
    "*  “跳绳分数”- “过程性评价”平均水平（中位数）高于“体质体检”，“过程性评价”波动程度（箱子宽度）较小=〉有小部分重合，差别较为明显；\n",
    "*  “立定跳远成绩”-两组数据平均水平（中位数），波动程度（箱子宽度）都很类似；“体质体检”异常值相对多出很多=〉可能是体质体检数据总数（25万）远多于“过程性评价”（352个）；\n",
    "*  “立定跳远分数”- “过程性评价”平均水平（中位数）低于“体质体检”，且“过程性评价”波动程度（箱子宽度）较小=〉有小部分重合，差别较为明显\n",
    "*  “引体向上分数”-“过程性评价”平均水平（中位数）和波动程度（箱子宽度）均好于“体质体检”=〉几乎没有重合，存在非常明显的差别\n"
   ]
  },
  {
   "cell_type": "markdown",
   "metadata": {},
   "source": [
    "### 2）平均值对比"
   ]
  },
  {
   "cell_type": "markdown",
   "metadata": {},
   "source": [
    "上面主要是对五值及数据分布的比较，下面是对平均值的比较分析,首先先大致了解一下各项目的平均值:"
   ]
  },
  {
   "cell_type": "code",
   "execution_count": 17,
   "metadata": {},
   "outputs": [
    {
     "data": {
      "text/plain": [
       "50m_1718_grade       8.672500\n",
       "50m_tztj_grade       8.547133\n",
       "50m_1718_point      77.523438\n",
       "50m_tztj_point      80.283042\n",
       "TS_1718_grade      148.464336\n",
       "TS_tztj_grade      126.111016\n",
       "TS_1718_point       91.377622\n",
       "TS_tztj_point       77.228864\n",
       "LDTY_1718_grade    177.423295\n",
       "LDTY_tztj_grade    180.737264\n",
       "LDTY_1718_point     63.380117\n",
       "LDTY_tztj_point     72.251009\n",
       "YTXS_1718_point     88.796407\n",
       "YTXS_tztj_point     33.376773\n",
       "dtype: float64"
      ]
     },
     "execution_count": 17,
     "metadata": {},
     "output_type": "execute_result"
    }
   ],
   "source": [
    "data_total2.mean()#均值对比"
   ]
  },
  {
   "cell_type": "markdown",
   "metadata": {},
   "source": [
    "为了更直观清晰的比较各个项目分数/成绩之间的平均值关系，下面将所有项目分为2.1）项目成绩，和2.2）项目分数进行平均值的比较分析。"
   ]
  },
  {
   "cell_type": "code",
   "execution_count": 18,
   "metadata": {},
   "outputs": [],
   "source": [
    "## 17-18与tztj成绩对比\n",
    "# 摘出部分数据到对应表格\n",
    "g1718 = data_total2[['50m_1718_grade','TS_1718_grade','LDTY_1718_grade']]#1718 grade\n",
    "p1718 = data_total2[['50m_1718_point','TS_1718_point','LDTY_1718_point','YTXS_1718_point']]#1718 point\n",
    "gtztj = data_total2[['50m_tztj_grade','TS_tztj_grade','LDTY_tztj_grade']]#tztj grade\n",
    "ptztj = data_total2[['50m_tztj_point','TS_tztj_point','LDTY_tztj_point','YTXS_tztj_point']]#tztj point"
   ]
  },
  {
   "cell_type": "markdown",
   "metadata": {},
   "source": [
    "####     2.1）项目成绩平均值比较分析"
   ]
  },
  {
   "cell_type": "markdown",
   "metadata": {},
   "source": [
    "“体质体检”与“过程性评价”的3个相同项目“50m”,“跳绳”，“立定跳远”成绩平均值对比："
   ]
  },
  {
   "cell_type": "code",
   "execution_count": 19,
   "metadata": {
    "scrolled": true
   },
   "outputs": [
    {
     "data": {
      "image/png": "[encoded data removed]",
      "text/plain": [
       "<Figure size 1080x360 with 2 Axes>"
      ]
     },
     "metadata": {},
     "output_type": "display_data"
    }
   ],
   "source": [
    "# 17-18与tztj的3项50m,跳绳，立定跳远 成绩平均值对比\n",
    "fig4,(a,b)=plt.subplots(1,2,figsize=(15,5))\n",
    "a=plt.subplot(1,2,1)\n",
    "name_list=['50m','TiaoSheng','LiDingTiaoYuan']\n",
    "x =list(range(len(gtztj.mean())))\n",
    "a.bar(x, gtztj.mean(), width=0.2,label='tztj',fc = 'c')\n",
    "for i in range(len(x)):\n",
    "    plt.text(x[i], list(gtztj.mean())[i], '%.2f' % list(gtztj.mean())[i], ha='center', va= 'bottom',fontsize=9)\n",
    "    x[i] = x[i] + 0.2\n",
    "    plt.text(x[i], list(g1718.mean())[i], '%.2f' % list(g1718.mean())[i], ha='center', va= 'bottom',fontsize=9)\n",
    "a.bar(x, g1718.mean(), width=0.2,label='17-18',fc = 'orange')\n",
    "plt.ylabel('grade mean')\n",
    "plt.title('Comparision of 17-18 and tztj mean grade') \n",
    "\n",
    "for i in range(len(x)):\n",
    "    x[i] = x[i] -0.1\n",
    "plt.xticks(x, name_list )\n",
    "plt.legend()\n",
    "\n",
    "b=plt.subplot(1,2,2)\n",
    "x =list(range(len(g1718.mean())))\n",
    "b.plot(x,gtztj.mean(),label='tztj',linewidth=3,color='c',marker='o', markerfacecolor='b',markersize=8) \n",
    "b.plot(x,g1718.mean(),label='17-18',linewidth=3, color='orange',marker='*',markerfacecolor='r',markersize=8) \n",
    "plt.ylabel('grade mean') \n",
    "plt.title('Comparision of 17-18 and tztj mean grade') \n",
    "plt.xticks(x, name_list )\n",
    "for i in range(len(x)):\n",
    "    plt.text(x[i], list(gtztj.mean())[i], '%.2f' % list(gtztj.mean())[i], ha='center', va= 'bottom',fontsize=9)\n",
    "    plt.text(x[i], list(g1718.mean())[i]-5, '%.2f' % list(g1718.mean())[i], ha='center', va= 'bottom',fontsize=9)\n",
    "plt.legend() \n",
    "plt.show() "
   ]
  },
  {
   "cell_type": "markdown",
   "metadata": {},
   "source": [
    " 上面两图分别通过柱状图，和折线图的形式对项目成绩的平均值进行比较。二者基本呈现相一致的变化趋势，表明二者可能相关程度较高。其中，“过程性评价”在“50m”和“跳绳”项目的平均值均高于“体质体检”，只有“立定跳远”平均值稍低于“体质体检”。=〉所有项目成绩差别都不大。"
   ]
  },
  {
   "cell_type": "markdown",
   "metadata": {},
   "source": [
    "#### 2.2）项目分数平均值比较分析"
   ]
  },
  {
   "cell_type": "markdown",
   "metadata": {},
   "source": [
    "“体质体检”与“过程性评价”的4个相同项目“50m”,“跳绳”，“立定跳远”，“引体向上”分数平均值对比："
   ]
  },
  {
   "cell_type": "code",
   "execution_count": 20,
   "metadata": {},
   "outputs": [
    {
     "data": {
      "image/png": "[encoded data removed]",
      "text/plain": [
       "<Figure size 1080x360 with 2 Axes>"
      ]
     },
     "metadata": {},
     "output_type": "display_data"
    }
   ],
   "source": [
    "# 17-18与tztj的4项50m,跳绳，立定跳远, 引体向上 最终得分平均值对比\n",
    "fig5,(a,b)=plt.subplots(1,2,figsize=(15,5))\n",
    "a=plt.subplot(1,2,1)\n",
    "name_list=['50m','TiaoSheng','LiDingTiaoYuan','YinTiXiangShang']\n",
    "x =list(range(len(ptztj.mean())))\n",
    "a.bar(x, ptztj.mean(), width=0.2,label='tztj',fc = 'c')\n",
    "for i in range(len(x)):\n",
    "    plt.text(x[i], list(ptztj.mean())[i], '%.2f' % list(ptztj.mean())[i], ha='center', va= 'bottom',fontsize=9)\n",
    "    x[i] = x[i] + 0.2\n",
    "    plt.text(x[i], list(p1718.mean())[i], '%.2f' % list(p1718.mean())[i], ha='center', va= 'bottom',fontsize=9)\n",
    "a.bar(x, p1718.mean(), width=0.2,label='17-18',fc = 'orange')\n",
    "plt.ylabel('point mean')\n",
    "plt.title('Comparision of 17-18 and tztj mean point') \n",
    "\n",
    "for i in range(len(x)):\n",
    "    x[i] = x[i] -0.1\n",
    "plt.xticks(x, name_list )\n",
    "plt.legend()\n",
    "\n",
    "b=plt.subplot(1,2,2)\n",
    "x =list(range(len(p1718.mean())))\n",
    "b.plot(x,ptztj.mean(),label='tztj',linewidth=3,color='c',marker='o', markerfacecolor='b',markersize=8) \n",
    "b.plot(x,p1718.mean(),label='17-18',linewidth=3, color='orange',marker='*',markerfacecolor='r',markersize=8) \n",
    "plt.ylabel('point mean') \n",
    "plt.title('Comparision of 17-18 and tztj mean point') \n",
    "plt.xticks(x, name_list )\n",
    "for i in range(len(x)):\n",
    "    plt.text(x[i], list(ptztj.mean())[i], '%.2f' % list(ptztj.mean())[i], ha='center', va= 'bottom',fontsize=9)\n",
    "    plt.text(x[i], list(p1718.mean())[i], '%.2f' % list(p1718.mean())[i], ha='center', va= 'bottom',fontsize=9)\n",
    "plt.legend() \n",
    "plt.show() "
   ]
  },
  {
   "cell_type": "markdown",
   "metadata": {},
   "source": [
    "上面两图分别通过柱状图，和折线图的形式对项目分数的平均值进行比较。二者变化趋势差别较大，表明二者相关性可能不大。其中，“过程性评价”在“跳绳”和“引体向上”项目分数的平均值均明显高于“体质体检”，而在“50m”和“立定跳远”项目分数的平均值稍低于“体质体检”。=〉在“引体向上”项目成绩差别明显，不可忽略；而其它项目差别相对较小"
   ]
  },
  {
   "cell_type": "markdown",
   "metadata": {},
   "source": [
    "总结：\n",
    "\n",
    " * 通过以上对所有项目平均成绩/分数的对比，可以总结：“体质体检”和“过程性评价”中各项目成绩平均值相似程度较高，但各项目分数平均值差别较大，数据离散程度也有差别 =〉（更多的可能是对不同体质测量项目的 给分标准不同 ）=〉给分严不严  \n",
    "\n",
    " * 对于“引体向上”项目成绩差别明显，不可忽略，“体质体检”和“过程性评价”的数据给出了两个比较极端的结果（“体质体检”：33.38，“过程性评价”：88.80）=〉两种猜测：（1）两次给分标准不同，“过程性评价”给分宽容，而“体质体检”给分严格；（2）测量的并不是同一个项目，“过程性评价”初二学生的“单杠”项目 并不等同于 “体质体检”中的“引体向上”项目，故给分差别大。"
   ]
  },
  {
   "cell_type": "markdown",
   "metadata": {},
   "source": [
    "### 3）直方图对比"
   ]
  },
  {
   "cell_type": "markdown",
   "metadata": {},
   "source": [
    "最后通过直方图对比“体质体检”和“过程性评价”不同成绩/分数的分布关系。\n",
    "* 注意： 由于“体质体检”与“过程性评价”两组数据的数据量大小相差过大，每个直方图的有两组纵坐标对应于不同的数据量，以使数据量相差巨大的两组直方图展示在一个直方图中。"
   ]
  },
  {
   "cell_type": "code",
   "execution_count": 21,
   "metadata": {},
   "outputs": [
    {
     "data": {
      "image/png": "[encoded data removed]",
      "text/plain": [
       "<Figure size 1440x2520 with 14 Axes>"
      ]
     },
     "metadata": {},
     "output_type": "display_data"
    }
   ],
   "source": [
    "\n",
    "fig=plt.figure(figsize=(20,35))\n",
    "title=['50m_grade','50m_point','TiaoSheng_grade','TiaoSheng_point','LiDingTiaoYuan_grade','LiDingTiaoYuan_point','YinTiXiangShang_point']\n",
    "j=0\n",
    "for i in range(7):\n",
    "    ax1=fig.add_subplot(4,2,i+1)\n",
    "    ax1.set_title(title[i])\n",
    "    ax1.set_xlabel(title[i])\n",
    "    data_total2.iloc[:,j].hist(alpha=0.4,label='1718',color='orange',ax=ax1)\n",
    "    plt.legend(loc=2)\n",
    "    ax2 = ax1.twinx() # 创建第二个坐标轴\n",
    "    data_total2.iloc[:,j+1].hist(alpha=0.4,label='tztj',color='c',ax=ax2)\n",
    "    j=j+2\n",
    "    plt.legend(loc=1)\n",
    "    ax1.set_ylabel('1718 count',size=12)\n",
    "    ax2.set_ylabel('tztj count',size=12)\n",
    "    plt.gcf().autofmt_xdate()#自动适应刻度线密度，包括x轴，y轴\n",
    "    plt.grid(False)\n",
    "plt.subplots_adjust(hspace=0.2,wspace=0.2)\n",
    "\n",
    "\n"
   ]
  },
  {
   "cell_type": "markdown",
   "metadata": {},
   "source": [
    "上方的7个直方图分别对应于不同的项目成绩/分数，标题表明该项目，横坐标为该项目成绩/分数，左侧纵坐标为“过程性评价”各个项目对应成绩/分数的人数，右侧纵坐标为“体质体检”各个项目对应成绩/分数的人数。\n",
    "\n",
    "总结：\n",
    "* 对于前5张图，大部分成绩/分数横坐标区间重合， “过程性评价”在好成绩/高分的分布人数比例更大；\n",
    "* 对于“立定跳远分数”，大部分成绩/分数横坐标区间重合， “过程性评价”在低成绩/低分的分布人数比例更大；\n",
    "* 对于“引体向上分数”，大部分成绩/分数横坐标区间分离， “过程性评价”几乎都集中在在高成绩/高分的区间；"
   ]
  },
  {
   "cell_type": "markdown",
   "metadata": {},
   "source": [
    "## 六、 显著性差异分析"
   ]
  },
  {
   "cell_type": "markdown",
   "metadata": {},
   "source": [
    "下面通过统计学上的概念对数据差异性做出评价。通常情况下，实验结果达到0.05水平或0.01水平，才可以说数据之间具备了差异显著或是极显著。分别计算“体质体检”和“过程性评价”各项目成绩/分数的置信区间，通过对比置信区间之间是否存在交集，做出差异性评价：存在交集=〉差异不显著；不存在交集=>存在显著性差异。"
   ]
  },
  {
   "cell_type": "markdown",
   "metadata": {},
   "source": [
    "### 1）“体质体检”和“过程性评价”各项目成绩的置信区间计算及分析\n",
    "* 对于输出的数据，每列代表一个项目，第一行代表区间左边界，第二行代表区间右边界。例如：[6.94，10.39]为“过程性评价”的“50m”项目成绩的置信区间。 \n",
    "* 在显著性差异分析中，认为显著性水平（可信度）为0.05，就是要求在用所得样本进行总体参数区间估计的时，应有95%的概率确定它与总体参数一致，简单说就是用100个样本进行区间估计，得到100个区间，其中应有95个区间包括了总体参数。"
   ]
  },
  {
   "cell_type": "code",
   "execution_count": 22,
   "metadata": {},
   "outputs": [
    {
     "data": {
      "text/plain": [
       "(array([  6.94611026,  92.03896175, 115.50163786]),\n",
       " array([ 10.39888974, 204.88970958, 239.34495305]))"
      ]
     },
     "execution_count": 22,
     "metadata": {},
     "output_type": "execute_result"
    }
   ],
   "source": [
    "from scipy import stats\n",
    "interval1=stats.t.interval(0.95,len(g1718)-1,g1718.mean(),g1718.std())\n",
    "interval1"
   ]
  },
  {
   "cell_type": "code",
   "execution_count": 23,
   "metadata": {},
   "outputs": [
    {
     "data": {
      "text/plain": [
       "(array([  6.56231677,  55.40487697, 110.06078994]),\n",
       " array([ 10.53194864, 196.81715548, 251.41373732]))"
      ]
     },
     "execution_count": 23,
     "metadata": {},
     "output_type": "execute_result"
    }
   ],
   "source": [
    "interval2=stats.t.interval(0.95,len(gtztj)-1,gtztj.mean(),gtztj.std())\n",
    "interval2"
   ]
  },
  {
   "cell_type": "markdown",
   "metadata": {},
   "source": [
    "“体质体检”和“过程性评价”成绩：置信区间均有交集, 在置信水平为95%的情况下，二者差异不显著，不能否认它们相等.=〉但也不能说明它们代表的数据一致，需要更多的数据来重新分析，作为决策支持"
   ]
  },
  {
   "cell_type": "markdown",
   "metadata": {},
   "source": [
    "### 2）“体质体检”和“过程性评价”各项目分数的置信区间计算及分析\n",
    "* 对于输出的数据，每列代表一个项目，第一行代表区间左边界，第二行代表区间右边界。例如：[39.43，115.61]为“过程性评价”的“50m”项目分数的置信区间。 \n",
    "* 在显著性差异分析中，认为显著性水平（可信度）为0.05，就是要求在用所得样本进行总体参数区间估计的时，应有95%的概率确定它与总体参数一致，简单说就是用100个样本进行区间估计，得到100个区间，其中应有95个区间包括了总体参数。"
   ]
  },
  {
   "cell_type": "code",
   "execution_count": 24,
   "metadata": {},
   "outputs": [
    {
     "data": {
      "text/plain": [
       "(array([39.43671891, 72.94847482, 21.32374381, 74.88158355]),\n",
       " array([115.61015609, 109.80676993, 105.43649011, 102.71123082]))"
      ]
     },
     "execution_count": 24,
     "metadata": {},
     "output_type": "execute_result"
    }
   ],
   "source": [
    "interval3=stats.t.interval(0.95,len(p1718)-1,p1718.mean(),p1718.std())\n",
    "interval3"
   ]
  },
  {
   "cell_type": "code",
   "execution_count": 25,
   "metadata": {},
   "outputs": [
    {
     "data": {
      "text/plain": [
       "(array([ 49.51995622,  40.40098768,  33.86515783, -31.30306555]),\n",
       " array([111.04612745, 114.05674076, 110.63685938,  98.05661222]))"
      ]
     },
     "execution_count": 25,
     "metadata": {},
     "output_type": "execute_result"
    }
   ],
   "source": [
    "interval4=stats.t.interval(0.95,len(ptztj)-1,ptztj.mean(),ptztj.std())\n",
    "interval4"
   ]
  },
  {
   "cell_type": "markdown",
   "metadata": {},
   "source": [
    "“体质体检”和“过程性评价”分数：置信区间均有交集, 在置信水平为95%的情况下，二者差异不显著，不能否认它们相等.=〉但也不能说明它们代表的数据一致，需要更多的数据来重新分析，作为决策支持"
   ]
  },
  {
   "cell_type": "code",
   "execution_count": null,
   "metadata": {},
   "outputs": [],
   "source": []
  }
 ],
 "metadata": {
  "kernelspec": {
   "display_name": "python3",
   "language": "python",
   "name": "python3"
  },
  "language_info": {
   "codemirror_mode": {
    "name": "ipython",
    "version": 3
   },
   "file_extension": ".py",
   "mimetype": "text/x-python",
   "name": "python",
   "nbconvert_exporter": "python",
   "pygments_lexer": "ipython3",
   "version": "3.6.7"
  }
 },
 "nbformat": 4,
 "nbformat_minor": 2
}
